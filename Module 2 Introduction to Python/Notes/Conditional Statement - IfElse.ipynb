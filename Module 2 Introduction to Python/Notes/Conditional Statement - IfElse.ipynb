{
 "cells": [
  {
   "cell_type": "code",
   "execution_count": 12,
   "metadata": {},
   "outputs": [
    {
     "name": "stdout",
     "output_type": "stream",
     "text": [
      "Enter string : pomd\n",
      "NO\n"
     ]
    }
   ],
   "source": [
    "input_str = str(input(\"Enter string : \"))\n",
    "if input_str[0] == \"A\" or input_str[0] == \"a\" or input_str[0] == \"e\" or input_str[0] == \"E\" or input_str[0] == \"i\" or input_str[0] == \"I\" or input_str[0] == \"o\" or input_str[0] == \"O\" or input_str[0] == \"u\" or input_str[0] == \"U\": \n",
    "    print(\"YES\")\n",
    "else:\n",
    "    print(\"NO\")"
   ]
  },
  {
   "cell_type": "code",
   "execution_count": 13,
   "metadata": {},
   "outputs": [
    {
     "name": "stdout",
     "output_type": "stream",
     "text": [
      "B\n"
     ]
    }
   ],
   "source": [
    "if (10 < 0) and (0 < -10):\n",
    "    print(\"A\")\n",
    "elif (10 > 0) or False:\n",
    "    print(\"B\")\n",
    "else:\n",
    "    print(\"C\")"
   ]
  },
  {
   "cell_type": "code",
   "execution_count": 14,
   "metadata": {},
   "outputs": [
    {
     "name": "stdout",
     "output_type": "stream",
     "text": [
      "B\n"
     ]
    }
   ],
   "source": [
    "if True or True:\n",
    "    if False and True or False:\n",
    "        print('A')\n",
    "    elif False and False or True and True:\n",
    "        print('B')\n",
    "    else:\n",
    "        print('C')\n",
    "else:\n",
    "    print('D')"
   ]
  },
  {
   "cell_type": "markdown",
   "metadata": {},
   "source": [
    "### IF - ELSE statements:\n",
    "- If statement:"
   ]
  },
  {
   "cell_type": "code",
   "execution_count": 19,
   "metadata": {},
   "outputs": [
    {
     "name": "stdout",
     "output_type": "stream",
     "text": [
      "Enter your test score : 87\n",
      "Passing score\n"
     ]
    }
   ],
   "source": [
    "score = int(input(\"Enter your test score : \")) # get score form the user \n",
    "passing = 40\n",
    "distinction = 90\n",
    "\n",
    "if 40 <= score < 90 :\n",
    "    print(\"Passing score\")\n",
    "if score >= 90:\n",
    "    print(\"distinction\")"
   ]
  },
  {
   "cell_type": "markdown",
   "metadata": {},
   "source": [
    "-  Condition in the if statement return true or false if Condition is true then it execute ow goto the next statement. \n",
    "\n",
    "-  Like C language we have elif instead of else if"
   ]
  },
  {
   "cell_type": "code",
   "execution_count": 21,
   "metadata": {},
   "outputs": [
    {
     "name": "stdout",
     "output_type": "stream",
     "text": [
      "Enter your test score : 87\n",
      "First Class\n"
     ]
    }
   ],
   "source": [
    "score = int(input(\"Enter your test score : \")) # get score form the user\n",
    "if score >= 90:\n",
    "    print(\"You're at the top! You’ve earned a distinction!\")\n",
    "elif 90 > score > 80 :\n",
    "    print(\"First Class\")\n",
    "elif 80 > score > 60:\n",
    "    print(\"Second Class\")\n",
    "elif 60 > score >= 40:\n",
    "    print(\"pass class\")\n",
    "else:\n",
    "    print(\"Better luck next time\")"
   ]
  },
  {
   "cell_type": "markdown",
   "metadata": {},
   "source": [
    "-  Nested If loop"
   ]
  },
  {
   "cell_type": "code",
   "execution_count": 23,
   "metadata": {},
   "outputs": [
    {
     "name": "stdout",
     "output_type": "stream",
     "text": [
      "Enter a number: 30\n",
      "Even\n",
      "Not divisible by 4\n"
     ]
    }
   ],
   "source": [
    "num = int(input(\"Enter a number: \"))\n",
    "#enter 24\n",
    "if num%2==0:\n",
    "    print(\"Even\")\n",
    "    if num%4==0:\n",
    "        print(\"divisible by 4\")\n",
    "    else:\n",
    "        print(\"Not divisible by 4\")\n",
    "else:\n",
    "    print(\"Odd\")\n",
    "    if num%3==0:\n",
    "        print(\"Divisible by 3\")\n",
    "    else:\n",
    "        print(\"Not divisible by 3\")"
   ]
  },
  {
   "cell_type": "code",
   "execution_count": null,
   "metadata": {},
   "outputs": [],
   "source": []
  }
 ],
 "metadata": {
  "kernelspec": {
   "display_name": "Python 3",
   "language": "python",
   "name": "python3"
  },
  "language_info": {
   "codemirror_mode": {
    "name": "ipython",
    "version": 3
   },
   "file_extension": ".py",
   "mimetype": "text/x-python",
   "name": "python",
   "nbconvert_exporter": "python",
   "pygments_lexer": "ipython3",
   "version": "3.7.3"
  }
 },
 "nbformat": 4,
 "nbformat_minor": 2
}
