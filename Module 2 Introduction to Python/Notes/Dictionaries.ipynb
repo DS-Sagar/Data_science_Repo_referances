{
 "cells": [
  {
   "cell_type": "markdown",
   "metadata": {},
   "source": [
    "### Dictionaries\n",
    "-  Dictionaries are sometimes found in other languages as “associative memories” or “associative arrays”. Unlike sequences, which are indexed by a range of numbers, dictionaries are indexed by keys, which can be any immutable type; `strings and numbers can always be keys`. Tuples can be used as keys if they contain only strings, numbers, or tuples; if a tuple contains any mutable object either directly or indirectly, it cannot be used as a key. You can’t use lists as keys, since lists can be modified in place using index assignments, slice assignments, or methods like append() and extend().\n",
    "\n",
    "-  Like lists and tuple we can declare the dictionaries using the `{}`.\n",
    "\n",
    "-  Dictionary is not immutable data types you can Add, Delete and change the values in the dictionary.\n",
    "\n"
   ]
  },
  {
   "cell_type": "code",
   "execution_count": 1,
   "metadata": {},
   "outputs": [
    {
     "name": "stdout",
     "output_type": "stream",
     "text": [
      "{}\n"
     ]
    }
   ],
   "source": [
    "Empty_dictionary = {}\n",
    "print(Empty_dictionary)"
   ]
  },
  {
   "cell_type": "code",
   "execution_count": 2,
   "metadata": {},
   "outputs": [
    {
     "name": "stdout",
     "output_type": "stream",
     "text": [
      "{'Name': 'Bob Marley', 'Age': 35, 'Height': '5.6 ft', 'Hobby': 'Music'}\n"
     ]
    }
   ],
   "source": [
    "bio_data = {'Name': 'Bob Marley', 'Age':35, 'Height':\"5.6 ft\", 'Hobby': 'Music'} #Name, Age, Hieght,and hobby are the keys\n",
    "credentials = { 'UserA' : 'wkliopnc' , 'UserB': 98760 , 'UserC' :98760 } #wkliopnc, 98760 are the associated value to the keys\n",
    "print(bio_data)"
   ]
  },
  {
   "cell_type": "code",
   "execution_count": 3,
   "metadata": {},
   "outputs": [
    {
     "name": "stdout",
     "output_type": "stream",
     "text": [
      "Music\n"
     ]
    }
   ],
   "source": [
    "Hobby = bio_data[\"Hobby\"]\n",
    "print(Hobby)"
   ]
  },
  {
   "cell_type": "code",
   "execution_count": 4,
   "metadata": {},
   "outputs": [
    {
     "name": "stdout",
     "output_type": "stream",
     "text": [
      "['Python', 'R']\n"
     ]
    }
   ],
   "source": [
    "d = {'Python':40, 'R':45}\n",
    "print(list(d.keys()))"
   ]
  },
  {
   "cell_type": "markdown",
   "metadata": {},
   "source": [
    "-  You can add or change any value after creating the dictionary as follow."
   ]
  },
  {
   "cell_type": "code",
   "execution_count": 6,
   "metadata": {},
   "outputs": [
    {
     "name": "stdout",
     "output_type": "stream",
     "text": [
      "{'Name': 'Bob Marley', 'Age': 56, 'Height': '5.6 ft', 'Hobby': 'Music'}\n"
     ]
    }
   ],
   "source": [
    "bio_data['Age'] = 56 # change the value of the age key in bio_data dictionary\n",
    "print(bio_data)"
   ]
  },
  {
   "cell_type": "code",
   "execution_count": 7,
   "metadata": {},
   "outputs": [
    {
     "name": "stdout",
     "output_type": "stream",
     "text": [
      "{'Name': 'Bob Marley', 'Age': 56, 'Height': '5.6 ft', 'Hobby': 'Music', 'profession': 'Singer'}\n"
     ]
    }
   ],
   "source": [
    "bio_data['profession'] = \"Singer\" # Add new key and associated value in dictionary bio_data\n",
    "print(bio_data)"
   ]
  },
  {
   "cell_type": "markdown",
   "metadata": {},
   "source": [
    "-  You can delet the any entry from the dictionary"
   ]
  },
  {
   "cell_type": "code",
   "execution_count": 8,
   "metadata": {},
   "outputs": [
    {
     "name": "stdout",
     "output_type": "stream",
     "text": [
      "{'Name': 'Bob Marley', 'Height': '5.6 ft', 'Hobby': 'Music', 'profession': 'Singer'}\n",
      "{'Name': 'Bob Marley', 'Height': '5.6 ft', 'Hobby': 'Music', 'profession': 'Singer', 'Age': 35}\n"
     ]
    }
   ],
   "source": [
    "del bio_data['Age'] # delete the Age key \n",
    "print(bio_data)\n",
    "\n",
    "bio_data['Age'] = 35 # add deleted Age key back in dictionary\n",
    "print(bio_data)"
   ]
  },
  {
   "cell_type": "markdown",
   "metadata": {},
   "source": [
    "-  We can create the dictionary in following way also"
   ]
  },
  {
   "cell_type": "code",
   "execution_count": 24,
   "metadata": {},
   "outputs": [
    {
     "name": "stdout",
     "output_type": "stream",
     "text": [
      "{'Name': 'Sagar', 'Age': 25, 'Profession': 'Engineer'}\n"
     ]
    }
   ],
   "source": [
    "Test_dict = dict(Name='Sagar',Age = 25, Profession = 'Engineer')\n",
    "print(Test_dict)"
   ]
  },
  {
   "cell_type": "code",
   "execution_count": 25,
   "metadata": {},
   "outputs": [
    {
     "name": "stdout",
     "output_type": "stream",
     "text": [
      "{'Load_values': [23, 36, 56, 89, 78, 54, 58, 69, 48, 58], 'Angle': [15, 20, 25, 30, 35, 40, 45, 50, 55, 60]}\n",
      "(23, 36, 56, 89, 78, 54, 58, 69, 48, 58)\n",
      "(15, 20, 25, 30, 35, 40, 45, 50, 55, 60)\n",
      "At angle 20 Load capacity is = 36\n",
      "3\n",
      "3\n"
     ]
    }
   ],
   "source": [
    "Load = dict(Load_values = [23,36,56,89,78,54,58,69,48,58], Angle = [15,20,25,30,35,40,45,50,55,60])\n",
    "print(Load)\n",
    "Load_value_tuple = tuple(Load['Load_values'])\n",
    "print(Load_value_tuple)\n",
    "Angle_value_tuple = tuple(Load['Angle'])\n",
    "print(Angle_value_tuple)\n",
    "\n",
    "print('At angle '+str(Angle_value_tuple[1])+' Load capacity is = '+str(Load_value_tuple[1]))\n",
    "\n",
    "Load_value_list = list(Load_value_tuple)\n",
    "print(Load_value_list.index(89)) # we can retrive the index value of any given value from list\n",
    "print(Load_value_tuple.index(89)) # Same for the tuple also"
   ]
  },
  {
   "cell_type": "code",
   "execution_count": 30,
   "metadata": {},
   "outputs": [
    {
     "name": "stdout",
     "output_type": "stream",
     "text": [
      "[4, 3, 2]\n"
     ]
    }
   ],
   "source": [
    "a=[1,2,3,4,5]\n",
    "print(a[3:0:-1])"
   ]
  },
  {
   "cell_type": "code",
   "execution_count": 45,
   "metadata": {},
   "outputs": [
    {
     "name": "stdout",
     "output_type": "stream",
     "text": [
      "{1: 10, 2: 20, 3: 30, 4: 40, 5: 50, 6: 60}\n"
     ]
    }
   ],
   "source": [
    "dic1={1:10, 2:20} \n",
    "dic2={3:30, 4:40} \n",
    "dic3={5:50,6:60}\n",
    "dic4={}\n",
    "#dic4.update(dic1)\n",
    "#dic4.update(dic2)\n",
    "#dic4.update(dic3)\n",
    "\n",
    "for d in (dic1,dic2,dic3):dic4.update(d)\n",
    "print(dic4)"
   ]
  },
  {
   "cell_type": "code",
   "execution_count": null,
   "metadata": {},
   "outputs": [],
   "source": []
  }
 ],
 "metadata": {
  "kernelspec": {
   "display_name": "Python 3",
   "language": "python",
   "name": "python3"
  },
  "language_info": {
   "codemirror_mode": {
    "name": "ipython",
    "version": 3
   },
   "file_extension": ".py",
   "mimetype": "text/x-python",
   "name": "python",
   "nbconvert_exporter": "python",
   "pygments_lexer": "ipython3",
   "version": "3.7.3"
  }
 },
 "nbformat": 4,
 "nbformat_minor": 2
}
