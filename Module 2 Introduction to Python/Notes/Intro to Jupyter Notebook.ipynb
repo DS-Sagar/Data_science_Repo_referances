{
 "cells": [
  {
   "cell_type": "code",
   "execution_count": null,
   "metadata": {},
   "outputs": [],
   "source": [
    "#python introduction session"
   ]
  },
  {
   "cell_type": "code",
   "execution_count": 4,
   "metadata": {},
   "outputs": [
    {
     "name": "stdout",
     "output_type": "stream",
     "text": [
      "Enter your name: I am\n",
      "Hello I am\n"
     ]
    }
   ],
   "source": [
    "Name = input(\"Enter your name: \")\n",
    "print(\"Hello\",Name)"
   ]
  },
  {
   "cell_type": "markdown",
   "metadata": {},
   "source": [
    "## Markdown cell<br> \n",
    "Aftre adding the new cell just press `M` for creating markdown cell"
   ]
  },
  {
   "cell_type": "markdown",
   "metadata": {},
   "source": [
    "# Hi I am sagar\n",
    "## Hi I am sagar\n",
    "### Hi I am sagar\n",
    "#### Hi data is not ready\n",
    "##### hi sagar here"
   ]
  },
  {
   "cell_type": "markdown",
   "metadata": {},
   "source": [
    "## Various syntax for various fonts\n",
    "### For Bold: \n",
    "1) Give the two `_` on the either side of the string <br>\n",
    "__This will appear in bold__\n",
    "\n",
    "2) Give the two `*` on either side of of the string <br>\n",
    "**This will appear in bold**\n",
    "\n",
    "### For Italic: \n",
    "1) Give a `*` on either side of the string <br>\n",
    "*Just one star makes it italic*\n",
    "\n",
    "2) Give a `_` on either side of the string <br>\n",
    "_And one dash makes it italic_\n",
    "\n",
    "### For both Bold and Italic:\n",
    "1) Give all three `_` or `*` on both side<br>\n",
    "***This one's is for both bold and italic***\n"
   ]
  },
  {
   "cell_type": "markdown",
   "metadata": {},
   "source": [
    "### For Monospace Fonts:\n",
    "Use a back single quotation mark (\\`) to get monospace fonts.<br>  \n",
    "`This text will appear in mononspace font`"
   ]
  },
  {
   "cell_type": "markdown",
   "metadata": {},
   "source": [
    "### Line Breaks\n",
    "Some time in markdown cell, you don't get a line break where you want by pressing enter. In such case use `<br>` to get a manual linebreak\n",
    "\n"
   ]
  },
  {
   "cell_type": "markdown",
   "metadata": {},
   "source": [
    "### Indennting \n",
    "\n",
    "Use `>` to indent your text\n",
    "\n",
    "This is first line\n",
    "> this is indents second line\n",
    ">> This is indents third line\n"
   ]
  },
  {
   "cell_type": "markdown",
   "metadata": {},
   "source": [
    "### Bullets and Numbering \n",
    "-  A dash followed by two spaces, i.e. `'-  '` Create a bullet.\n",
    "\n",
    "    - Pressing tab before the dash creates sub-bullets."
   ]
  },
  {
   "cell_type": "markdown",
   "metadata": {},
   "source": [
    "1. Start with a simple `1. `(1 followed by a dot and a space) to get a number list.\n",
    "\n",
    "2. And keep doing it for further numbers.\n",
    "    1. Again, just a tab for the sub-bullet."
   ]
  },
  {
   "cell_type": "markdown",
   "metadata": {},
   "source": [
    "### Coloring \n",
    " - <font color = blue > This text will be blue </font>\n",
    " - <font color = yellow > Line color is yellow </font>"
   ]
  },
  {
   "cell_type": "markdown",
   "metadata": {},
   "source": [
    "### Adding an Image\n",
    "You can add an image from the web by using `<img src = \"image path\">`\n",
    "\n",
    "Example:\n",
    "<img src = \"https://en.wikipedia.org/wiki/File:Taj_Mahal_(Edited).jpeg\">"
   ]
  },
  {
   "cell_type": "markdown",
   "metadata": {},
   "source": [
    "### Command mode shortcuts\n",
    "\n",
    "-  `Esc:` To go into command mode\n",
    "-  `Enter:` To go back to edit mode\n",
    "-  `M:` To convert a cell to a markdown cell\n",
    "-  `Y:` To convert a cell back to a code cell\n",
    "-  `A:` To insert a new cell above\n",
    "-  `B:` To insert a new cell below\n",
    "-  `D + D:` To delete cell\n",
    "-  `Z:` Undo the last operation\n",
    "-  `F:` To find and replace on your code\n",
    "-  `Shift + Up/Down:` To select multiple cells\n",
    "-  `Space:` Scroll notebook downwards\n",
    "-  `Shift + Space:` Scroll notebook upwards\n",
    "\n",
    "\n",
    "### Edit mode shortcuts\n",
    "\n",
    "-  `Shift + Enter:` To execute the code in the current cell and go to the next cell\n",
    "-  `Alt + Enter:` To execute the code in the current cell and insert new cell below\n",
    "-  `Shift + Tab:` To get a brief documentation of the object that you have just typed in the coding cell\n",
    "-  `Ctrl + Shift + -:` To split the cell at the cursor\n",
    "-  `Shift + M:` To merge selected cells"
   ]
  },
  {
   "cell_type": "code",
   "execution_count": null,
   "metadata": {},
   "outputs": [],
   "source": []
  },
  {
   "cell_type": "code",
   "execution_count": null,
   "metadata": {},
   "outputs": [],
   "source": []
  }
 ],
 "metadata": {
  "kernelspec": {
   "display_name": "Python 3",
   "language": "python",
   "name": "python3"
  },
  "language_info": {
   "codemirror_mode": {
    "name": "ipython",
    "version": 3
   },
   "file_extension": ".py",
   "mimetype": "text/x-python",
   "name": "python",
   "nbconvert_exporter": "python",
   "pygments_lexer": "ipython3",
   "version": "3.7.3"
  }
 },
 "nbformat": 4,
 "nbformat_minor": 2
}
