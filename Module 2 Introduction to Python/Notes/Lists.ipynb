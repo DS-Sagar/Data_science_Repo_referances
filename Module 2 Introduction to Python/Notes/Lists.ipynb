{
 "cells": [
  {
   "cell_type": "markdown",
   "metadata": {},
   "source": [
    "### List Remove and Append"
   ]
  },
  {
   "cell_type": "markdown",
   "metadata": {},
   "source": [
    "-  **List**: It is data type used in python to store value of different data types like structure in C language\n",
    "-  It is similar like string but in string we are save bunch of characters and in List we saves the element of any data type"
   ]
  },
  {
   "cell_type": "code",
   "execution_count": 1,
   "metadata": {},
   "outputs": [
    {
     "name": "stdout",
     "output_type": "stream",
     "text": [
      "['Raigad', 'Kokan', 'A', 452, 58.25, 'Mumbai', 'Pune']\n"
     ]
    }
   ],
   "source": [
    "Test_List = [\"Raigad\", \"Kokan\",'A',452,58.25,\"Mumbai\",\"Pune\"]\n",
    "print(Test_List)"
   ]
  },
  {
   "cell_type": "markdown",
   "metadata": {},
   "source": [
    "-  Slicing of the list"
   ]
  },
  {
   "cell_type": "code",
   "execution_count": 3,
   "metadata": {},
   "outputs": [
    {
     "name": "stdout",
     "output_type": "stream",
     "text": [
      "['Raigad', 'Kokan', 'A']\n"
     ]
    }
   ],
   "source": [
    "print(Test_List[:3])"
   ]
  },
  {
   "cell_type": "code",
   "execution_count": 5,
   "metadata": {},
   "outputs": [
    {
     "name": "stdout",
     "output_type": "stream",
     "text": [
      "['A', 452, 58.25]\n"
     ]
    }
   ],
   "source": [
    "print(Test_List[2:-2])"
   ]
  },
  {
   "cell_type": "code",
   "execution_count": 4,
   "metadata": {},
   "outputs": [
    {
     "name": "stdout",
     "output_type": "stream",
     "text": [
      "[]\n"
     ]
    }
   ],
   "source": [
    "Name = ['1','2','3','4']\n",
    "Name[ : ] = []\n",
    "print(Name)"
   ]
  },
  {
   "cell_type": "code",
   "execution_count": 6,
   "metadata": {},
   "outputs": [
    {
     "name": "stdout",
     "output_type": "stream",
     "text": [
      "3\n"
     ]
    }
   ],
   "source": [
    "List_1 = [1,2,3,4,5]\n",
    "print(List_1[-3])"
   ]
  },
  {
   "cell_type": "markdown",
   "metadata": {},
   "source": [
    "-  Append the element in list\n",
    "    -  Use `ListName.append(element)` command"
   ]
  },
  {
   "cell_type": "code",
   "execution_count": 11,
   "metadata": {},
   "outputs": [
    {
     "name": "stdout",
     "output_type": "stream",
     "text": [
      "['Raigad', 'Delhi']\n"
     ]
    }
   ],
   "source": [
    "Test_List.append(\"Delhi\")\n",
    "print(Test_List)"
   ]
  },
  {
   "cell_type": "markdown",
   "metadata": {},
   "source": [
    "-  Use of `ListName.pop(index)` command : It remove the item of given index from the list and `return It`"
   ]
  },
  {
   "cell_type": "code",
   "execution_count": 17,
   "metadata": {},
   "outputs": [
    {
     "name": "stdout",
     "output_type": "stream",
     "text": [
      "Pune\n",
      "Kokan\n"
     ]
    }
   ],
   "source": [
    "print(Test_List.pop()) #remove last element of the list\n",
    "print(Test_List.pop(1)) #Remove the item of the index 1"
   ]
  },
  {
   "cell_type": "markdown",
   "metadata": {},
   "source": [
    "-  `ListName.remove()`: Use to remove the give item from the list"
   ]
  },
  {
   "cell_type": "code",
   "execution_count": 15,
   "metadata": {},
   "outputs": [
    {
     "name": "stdout",
     "output_type": "stream",
     "text": [
      "['Raigad', 'Kokan', 'A', 452, 58.25, 'Pune']\n"
     ]
    }
   ],
   "source": [
    "Test_List = [\"Raigad\", \"Kokan\",'A',452,58.25,\"Mumbai\",\"Pune\"]\n",
    "Test_List.remove('Mumbai')\n",
    "print(Test_List)"
   ]
  },
  {
   "cell_type": "markdown",
   "metadata": {},
   "source": [
    "### List To String and String to list\n",
    "-  String to List Conversion:"
   ]
  },
  {
   "cell_type": "code",
   "execution_count": 32,
   "metadata": {},
   "outputs": [
    {
     "name": "stdout",
     "output_type": "stream",
     "text": [
      "Hi Saif, this is to inform you that I'm not well today. I won't be coming to office, but I'm available on call. Thanks.\n"
     ]
    }
   ],
   "source": [
    "Test_String = \"Hi Saif, this is to inform you that I'm not well today. I won't be coming to office, but I'm available on call. Thanks.\"\n",
    "print(Test_String)"
   ]
  },
  {
   "cell_type": "markdown",
   "metadata": {},
   "source": [
    "-  Convert String to list using `split(identifier)`, identifier can be any character or not given the take blanck space automatically."
   ]
  },
  {
   "cell_type": "code",
   "execution_count": 33,
   "metadata": {},
   "outputs": [
    {
     "name": "stdout",
     "output_type": "stream",
     "text": [
      "['Hi', 'Saif,', 'this', 'is', 'to', 'inform', 'you', 'that', \"I'm\", 'not', 'well', 'today.', 'I', \"won't\", 'be', 'coming', 'to', 'office,', 'but', \"I'm\", 'available', 'on', 'call.', 'Thanks.']\n"
     ]
    }
   ],
   "source": [
    "Test_List = Test_String.split()\n",
    "print(Test_List)"
   ]
  },
  {
   "cell_type": "code",
   "execution_count": 28,
   "metadata": {},
   "outputs": [
    {
     "name": "stdout",
     "output_type": "stream",
     "text": [
      "[\"Hi Saif, this is to inform you that I'm not well today\", \" I won't be coming to office, but I'm available on call\", ' Thanks', '']\n"
     ]
    }
   ],
   "source": [
    "Test_List = Test_String.split('.')\n",
    "print(Test_List)"
   ]
  },
  {
   "cell_type": "markdown",
   "metadata": {},
   "source": [
    "- List to String Conversion:"
   ]
  },
  {
   "cell_type": "code",
   "execution_count": 34,
   "metadata": {},
   "outputs": [
    {
     "name": "stdout",
     "output_type": "stream",
     "text": [
      "Hi Saif, this is to inform you that I'm not well today. I won't be coming to office, but I'm available on call. Thanks.\n"
     ]
    }
   ],
   "source": [
    "Converted_String = \" \".join(Test_List)\n",
    "print(Converted_String)"
   ]
  },
  {
   "cell_type": "code",
   "execution_count": 39,
   "metadata": {},
   "outputs": [
    {
     "name": "stdout",
     "output_type": "stream",
     "text": [
      "['hii', 'hii', 'hii', 'hii', 'hii']\n"
     ]
    }
   ],
   "source": [
    "my_list = [\"hii\"]\n",
    "print(my_list*5)"
   ]
  },
  {
   "cell_type": "markdown",
   "metadata": {},
   "source": [
    "-  Nested List and accesing the nested list element\n",
    "    -  As we see that list is data type which containg data of different data types.\n",
    "    -  List also contains List and hat called nested list as given bellow."
   ]
  },
  {
   "cell_type": "code",
   "execution_count": 7,
   "metadata": {},
   "outputs": [
    {
     "name": "stdout",
     "output_type": "stream",
     "text": [
      "[[1, 2, 3, 'hii'], ['Mumbai', 'Chennai', 'Pune'], [1.5, 58, 658]]\n"
     ]
    }
   ],
   "source": [
    "Nest_List = [[1,2,3,'hii'],[\"Mumbai\",\"Chennai\",\"Pune\"],[1.5,58,658]]\n",
    "print(Nest_List)"
   ]
  },
  {
   "cell_type": "markdown",
   "metadata": {},
   "source": [
    "-  How to access elements of list"
   ]
  },
  {
   "cell_type": "code",
   "execution_count": 8,
   "metadata": {},
   "outputs": [
    {
     "name": "stdout",
     "output_type": "stream",
     "text": [
      "['Mumbai', 'Chennai', 'Pune']\n"
     ]
    }
   ],
   "source": [
    "print(Nest_List[1]) #This prints 2nd element of the list"
   ]
  },
  {
   "cell_type": "code",
   "execution_count": 9,
   "metadata": {},
   "outputs": [
    {
     "name": "stdout",
     "output_type": "stream",
     "text": [
      "2\n"
     ]
    }
   ],
   "source": [
    "print(Nest_List[0][1]) # it prints 2nd element of 1st sub list of the list"
   ]
  },
  {
   "cell_type": "code",
   "execution_count": null,
   "metadata": {},
   "outputs": [],
   "source": []
  }
 ],
 "metadata": {
  "kernelspec": {
   "display_name": "Python 3",
   "language": "python",
   "name": "python3"
  },
  "language_info": {
   "codemirror_mode": {
    "name": "ipython",
    "version": 3
   },
   "file_extension": ".py",
   "mimetype": "text/x-python",
   "name": "python",
   "nbconvert_exporter": "python",
   "pygments_lexer": "ipython3",
   "version": "3.7.3"
  }
 },
 "nbformat": 4,
 "nbformat_minor": 2
}
