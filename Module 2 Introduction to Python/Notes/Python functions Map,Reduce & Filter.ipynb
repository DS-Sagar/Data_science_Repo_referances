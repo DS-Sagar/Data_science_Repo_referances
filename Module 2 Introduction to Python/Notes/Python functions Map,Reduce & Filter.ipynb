{
 "cells": [
  {
   "cell_type": "markdown",
   "metadata": {},
   "source": [
    "### Map:\n",
    "\n",
    "-  Syntax : `r = map(function, sequence)`\n",
    "-  It apply to the all element of the list as follows and return `TRUE` or `FALSE` depending on the condition satisfaction"
   ]
  },
  {
   "cell_type": "code",
   "execution_count": 22,
   "metadata": {},
   "outputs": [
    {
     "name": "stdout",
     "output_type": "stream",
     "text": [
      "[4, 9, 16, 25, 36]\n"
     ]
    }
   ],
   "source": [
    "Number_List = [2,3,4,5,6]\n",
    "squared_list = list(map(lambda x: x**2,Number_List))\n",
    "print(squared_list)"
   ]
  },
  {
   "cell_type": "code",
   "execution_count": 59,
   "metadata": {},
   "outputs": [
    {
     "name": "stdout",
     "output_type": "stream",
     "text": [
      "['Siemens', 'Sachin', 'Sagar']\n"
     ]
    }
   ],
   "source": [
    "list_of_names = ['nikola', 'james', 'albert', 'Siemens','Sachin','Sagar']\n",
    "list_of_S = []\n",
    "\n",
    "for word in list_of_names:\n",
    "    if word[0].lower() == 's':\n",
    "        list_of_S.append(word)\n",
    "print(list_of_S)\n"
   ]
  },
  {
   "cell_type": "code",
   "execution_count": 81,
   "metadata": {},
   "outputs": [
    {
     "name": "stdout",
     "output_type": "stream",
     "text": [
      "3\n"
     ]
    }
   ],
   "source": [
    "list_of_names = ['nikola', 'james', 'albert', 'Siemens','Sachin','Sagar','Hiii']\n",
    "\n",
    "print(sum(map(lambda x : x[1].lower() == 'a',list_of_names)))\n"
   ]
  },
  {
   "cell_type": "markdown",
   "metadata": {},
   "source": [
    "-  We can use the sepearate function instead of lambda in map operator"
   ]
  },
  {
   "cell_type": "code",
   "execution_count": 84,
   "metadata": {},
   "outputs": [
    {
     "name": "stdout",
     "output_type": "stream",
     "text": [
      "[4, 9, 16, 25, 36]\n"
     ]
    }
   ],
   "source": [
    "test_list = [2,3,4,5,6]\n",
    "def square (n):\n",
    "    return n**2\n",
    "\n",
    "print(list(map(square, test_list)))"
   ]
  },
  {
   "cell_type": "markdown",
   "metadata": {},
   "source": [
    "-  We can pass multiple list to the map function as follows.\n",
    "-  In map function we can pass tuple also it is no need to pass only list only it must be any itterable data stucture"
   ]
  },
  {
   "cell_type": "code",
   "execution_count": 92,
   "metadata": {},
   "outputs": [
    {
     "name": "stdout",
     "output_type": "stream",
     "text": [
      "[13, 11, 16, 16, 12]\n"
     ]
    }
   ],
   "source": [
    "list_1 = [5,6,8,9,8]\n",
    "list_2 = (8,5,8,7,4)\n",
    "\n",
    "print(list(map(lambda x,y: x+y, list_1,list_2)))"
   ]
  },
  {
   "cell_type": "code",
   "execution_count": 90,
   "metadata": {},
   "outputs": [
    {
     "name": "stdout",
     "output_type": "stream",
     "text": [
      "['Nikola Tesla', 'James Watt', 'Albert Einstein']\n"
     ]
    }
   ],
   "source": [
    "list_of_names = ['nikola', 'james', 'albert']\n",
    "list_of_names2 = ['tesla','watt','einstein']\n",
    "\n",
    "print(list(map(lambda x,y: x[0].upper()+x[1:] +' '+ y[0].upper()+y[1:], list_of_names,list_of_names2)))"
   ]
  },
  {
   "cell_type": "markdown",
   "metadata": {},
   "source": [
    "### Filter : \n",
    "-  It create list of elements for which a function returns `True`.\n",
    "-  Filter function apply on the every element of the list and if function returns `True` for any element then that element add to the return list."
   ]
  },
  {
   "cell_type": "code",
   "execution_count": 123,
   "metadata": {},
   "outputs": [
    {
     "name": "stdout",
     "output_type": "stream",
     "text": [
      "['salsap']\n"
     ]
    }
   ],
   "source": [
    "input_list =  ['hdjk', 'salsap', 'sherpa']\n",
    "print(list(filter(lambda x: x.startswith('s') and x.endswith('p'),input_list)))"
   ]
  },
  {
   "cell_type": "code",
   "execution_count": 124,
   "metadata": {},
   "outputs": [
    {
     "name": "stdout",
     "output_type": "stream",
     "text": [
      "[3, 6, 9]\n"
     ]
    }
   ],
   "source": [
    "divby3 = lambda x:  x % 3 == 0\n",
    "my_list = [3,4,5,6,7,8,9]\n",
    "div = filter(divby3, my_list)\n",
    "print(list(div))"
   ]
  },
  {
   "cell_type": "markdown",
   "metadata": {},
   "source": [
    "### Reduce:\n",
    "-  It is very usefull function for performing computation on the list and returning the result \n",
    "-  It applies rolling computation to sequential pair of the value in the list. \n",
    "-  For example if you want to calculate sum of the elements of the list then it perform as follows."
   ]
  },
  {
   "cell_type": "code",
   "execution_count": 126,
   "metadata": {},
   "outputs": [
    {
     "name": "stdout",
     "output_type": "stream",
     "text": [
      "28\n"
     ]
    }
   ],
   "source": [
    "Number_list = [1,2,3,6,5,4,7]\n",
    "\n",
    "print(reduce(lambda x,y : x+y, Number_list))"
   ]
  },
  {
   "cell_type": "markdown",
   "metadata": {},
   "source": [
    "***While performing above operation <br> 1) x = 1 + y = 2; <br>2) x = 3 + y = 3; <br>\n",
    "  that means x get result of the computation that current value get store in the x and y get next value in to the list and so on***"
   ]
  },
  {
   "cell_type": "code",
   "execution_count": 119,
   "metadata": {},
   "outputs": [
    {
     "name": "stdout",
     "output_type": "stream",
     "text": [
      "I Love Python\n"
     ]
    }
   ],
   "source": [
    "from functools import reduce\n",
    "\n",
    "input_list = ['I','Love','Python']\n",
    "print(reduce(lambda x,y : x+' '+y, input_list))"
   ]
  },
  {
   "cell_type": "code",
   "execution_count": 122,
   "metadata": {},
   "outputs": [
    {
     "name": "stdout",
     "output_type": "stream",
     "text": [
      "89\n"
     ]
    }
   ],
   "source": [
    "input_list = [31, 63, 76, 89]\n",
    "\n",
    "print(reduce(lambda x,y : x if x > y else y, input_list))"
   ]
  }
 ],
 "metadata": {
  "kernelspec": {
   "display_name": "Python 3",
   "language": "python",
   "name": "python3"
  },
  "language_info": {
   "codemirror_mode": {
    "name": "ipython",
    "version": 3
   },
   "file_extension": ".py",
   "mimetype": "text/x-python",
   "name": "python",
   "nbconvert_exporter": "python",
   "pygments_lexer": "ipython3",
   "version": "3.7.3"
  }
 },
 "nbformat": 4,
 "nbformat_minor": 2
}
