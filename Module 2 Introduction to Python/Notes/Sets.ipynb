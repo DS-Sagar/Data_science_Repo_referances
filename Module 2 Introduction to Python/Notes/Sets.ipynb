{
 "cells": [
  {
   "cell_type": "markdown",
   "metadata": {},
   "source": [
    "### Sets\n",
    "-  It is unorderd collection of the data which don't repeat. when you don't want to repeate or want to remove the duplicates of the data you may go for the sets\n",
    "\n",
    "-  Like the the tuples and lists it does not has indexes or like dictionries it does not have any keys. it's a simply collection of nonrepeated data"
   ]
  },
  {
   "cell_type": "code",
   "execution_count": 4,
   "metadata": {},
   "outputs": [
    {
     "name": "stdout",
     "output_type": "stream",
     "text": [
      "{'C', 'B', 'A', 'N', 'E'}\n"
     ]
    }
   ],
   "source": [
    "students_list = ['A','A','B','C','C','E','N']\n",
    "print(set(students_list)) #Order is not also in control of the programmer "
   ]
  },
  {
   "cell_type": "markdown",
   "metadata": {},
   "source": [
    "-  we can apply mathamatical operation on the sets like intersection, union or find difference between two sets.\n",
    "    -  intersection: It find the common element from the both the data sets"
   ]
  },
  {
   "cell_type": "code",
   "execution_count": 17,
   "metadata": {},
   "outputs": [
    {
     "name": "stdout",
     "output_type": "stream",
     "text": [
      "{'A', 'I', 'O'}\n"
     ]
    }
   ],
   "source": [
    "Test_Set_1 = set(['A','B','C','G','Y','I','O'])\n",
    "Test_Set_2 = set(['A','E','I','U','O','M','N'])\n",
    "\n",
    "print(Test_Set_1.intersection(Test_Set_2)) "
   ]
  },
  {
   "cell_type": "markdown",
   "metadata": {},
   "source": [
    "-  Union : it add to set by removing the duplicates "
   ]
  },
  {
   "cell_type": "code",
   "execution_count": 12,
   "metadata": {},
   "outputs": [
    {
     "name": "stdout",
     "output_type": "stream",
     "text": [
      "{'C', 'B', 'G', 'M', 'Y', 'U', 'O', 'I', 'A', 'N', 'E'}\n"
     ]
    }
   ],
   "source": [
    "print(Test_Set_1.union(Test_Set_2))"
   ]
  },
  {
   "cell_type": "markdown",
   "metadata": {},
   "source": [
    "-  Difference: It remove the common elements from the set on which we operate and return the element from the same set only"
   ]
  },
  {
   "cell_type": "code",
   "execution_count": 14,
   "metadata": {},
   "outputs": [
    {
     "name": "stdout",
     "output_type": "stream",
     "text": [
      "{'C', 'B', 'Y', 'G'}\n"
     ]
    }
   ],
   "source": [
    "print(Test_Set_1.difference(Test_Set_2))"
   ]
  },
  {
   "cell_type": "code",
   "execution_count": 16,
   "metadata": {},
   "outputs": [
    {
     "name": "stdout",
     "output_type": "stream",
     "text": [
      "None\n"
     ]
    }
   ],
   "source": [
    "print(Test_Set_1.clear()) #Clear the data set"
   ]
  },
  {
   "cell_type": "code",
   "execution_count": 20,
   "metadata": {},
   "outputs": [
    {
     "name": "stdout",
     "output_type": "stream",
     "text": [
      "4\n"
     ]
    }
   ],
   "source": [
    "nums = set([1,1,2,3,3,3,4])\n",
    "print(len(nums))"
   ]
  },
  {
   "cell_type": "markdown",
   "metadata": {},
   "source": [
    "-  Symmetric Difference: We can find semetric difference of the two data set as follows, `which is equal to the elements present in either of the two sets, but not common to both the sets`."
   ]
  },
  {
   "cell_type": "code",
   "execution_count": 24,
   "metadata": {},
   "outputs": [
    {
     "name": "stdout",
     "output_type": "stream",
     "text": [
      "{'C', 'G', 'M', 'Y', 'N', 'E', 'B', 'U'}\n"
     ]
    }
   ],
   "source": [
    "print(Test_Set_1.symmetric_difference(Test_Set_2))"
   ]
  },
  {
   "cell_type": "code",
   "execution_count": null,
   "metadata": {},
   "outputs": [],
   "source": []
  }
 ],
 "metadata": {
  "kernelspec": {
   "display_name": "Python 3",
   "language": "python",
   "name": "python3"
  },
  "language_info": {
   "codemirror_mode": {
    "name": "ipython",
    "version": 3
   },
   "file_extension": ".py",
   "mimetype": "text/x-python",
   "name": "python",
   "nbconvert_exporter": "python",
   "pygments_lexer": "ipython3",
   "version": "3.7.3"
  }
 },
 "nbformat": 4,
 "nbformat_minor": 2
}
